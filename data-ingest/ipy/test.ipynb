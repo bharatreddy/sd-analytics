{
 "cells": [
  {
   "cell_type": "code",
   "execution_count": 1,
   "metadata": {
    "collapsed": true
   },
   "outputs": [],
   "source": [
    "import csv\n",
    "import urllib2\n",
    "import elasticsearch"
   ]
  },
  {
   "cell_type": "code",
   "execution_count": 12,
   "metadata": {},
   "outputs": [],
   "source": [
    "FILE_URL = \"http://apps.sloanahrens.com/qbox-blog-resources/kaggle-titanic-data/test.csv\"\n",
    "ES_HOST = {\"host\" : \"localhost\", \"port\" : 9200}\n",
    "INDEX_NAME = 'titanic'\n",
    "TYPE_NAME = 'passenger'\n",
    "ID_FIELD = 'passengerid'\n",
    "response = urllib2.urlopen(FILE_URL)\n",
    "csv_file_object = csv.reader(response)\n",
    " \n",
    "header = csv_file_object.next()\n",
    "header = [item.lower() for item in header]"
   ]
  },
  {
   "cell_type": "code",
   "execution_count": 13,
   "metadata": {},
   "outputs": [
    {
     "name": "stdout",
     "output_type": "stream",
     "text": [
      "{'index': {'_type': 'passenger', '_id': '892', '_index': 'titanic'}}\n",
      "-----------------\n",
      "{'fare': '7.8292', 'name': 'Kelly, Mr. James', 'embarked': 'Q', 'age': '34.5', 'parch': '0', 'pclass': '3', 'sex': 'male', 'sibsp': '0', 'passengerid': '892', 'ticket': '330911', 'cabin': ''}\n",
      "******************\n",
      "{'index': {'_type': 'passenger', '_id': '893', '_index': 'titanic'}}\n",
      "-----------------\n",
      "{'fare': '7', 'name': 'Wilkes, Mrs. James (Ellen Needs)', 'embarked': 'S', 'age': '47', 'parch': '0', 'pclass': '3', 'sex': 'female', 'sibsp': '1', 'passengerid': '893', 'ticket': '363272', 'cabin': ''}\n",
      "******************\n",
      "{'index': {'_type': 'passenger', '_id': '894', '_index': 'titanic'}}\n",
      "-----------------\n",
      "{'fare': '9.6875', 'name': 'Myles, Mr. Thomas Francis', 'embarked': 'Q', 'age': '62', 'parch': '0', 'pclass': '2', 'sex': 'male', 'sibsp': '0', 'passengerid': '894', 'ticket': '240276', 'cabin': ''}\n",
      "******************\n",
      "{'index': {'_type': 'passenger', '_id': '895', '_index': 'titanic'}}\n",
      "-----------------\n",
      "{'fare': '8.6625', 'name': 'Wirz, Mr. Albert', 'embarked': 'S', 'age': '27', 'parch': '0', 'pclass': '3', 'sex': 'male', 'sibsp': '0', 'passengerid': '895', 'ticket': '315154', 'cabin': ''}\n",
      "******************\n",
      "{'index': {'_type': 'passenger', '_id': '896', '_index': 'titanic'}}\n",
      "-----------------\n",
      "{'fare': '12.2875', 'name': 'Hirvonen, Mrs. Alexander (Helga E Lindqvist)', 'embarked': 'S', 'age': '22', 'parch': '1', 'pclass': '3', 'sex': 'female', 'sibsp': '1', 'passengerid': '896', 'ticket': '3101298', 'cabin': ''}\n",
      "******************\n",
      "{'index': {'_type': 'passenger', '_id': '897', '_index': 'titanic'}}\n",
      "-----------------\n",
      "{'fare': '9.225', 'name': 'Svensson, Mr. Johan Cervin', 'embarked': 'S', 'age': '14', 'parch': '0', 'pclass': '3', 'sex': 'male', 'sibsp': '0', 'passengerid': '897', 'ticket': '7538', 'cabin': ''}\n",
      "******************\n"
     ]
    },
    {
     "ename": "NameError",
     "evalue": "name 'asads' is not defined",
     "output_type": "error",
     "traceback": [
      "\u001b[0;31m---------------------------------------------------------------------------\u001b[0m",
      "\u001b[0;31mNameError\u001b[0m                                 Traceback (most recent call last)",
      "\u001b[0;32m<ipython-input-13-7e6cc409cd2f>\u001b[0m in \u001b[0;36m<module>\u001b[0;34m()\u001b[0m\n\u001b[1;32m     18\u001b[0m     \u001b[0mcnt\u001b[0m \u001b[0;34m+=\u001b[0m \u001b[0;36m1\u001b[0m\u001b[0;34m\u001b[0m\u001b[0m\n\u001b[1;32m     19\u001b[0m     \u001b[0;32mif\u001b[0m \u001b[0mcnt\u001b[0m \u001b[0;34m>\u001b[0m \u001b[0;36m5\u001b[0m\u001b[0;34m:\u001b[0m\u001b[0;34m\u001b[0m\u001b[0m\n\u001b[0;32m---> 20\u001b[0;31m         \u001b[0masads\u001b[0m\u001b[0;34m\u001b[0m\u001b[0m\n\u001b[0m\u001b[1;32m     21\u001b[0m     \u001b[0mbulk_data\u001b[0m\u001b[0;34m.\u001b[0m\u001b[0mappend\u001b[0m\u001b[0;34m(\u001b[0m\u001b[0mop_dict\u001b[0m\u001b[0;34m)\u001b[0m\u001b[0;34m\u001b[0m\u001b[0m\n\u001b[1;32m     22\u001b[0m     \u001b[0mbulk_data\u001b[0m\u001b[0;34m.\u001b[0m\u001b[0mappend\u001b[0m\u001b[0;34m(\u001b[0m\u001b[0mdata_dict\u001b[0m\u001b[0;34m)\u001b[0m\u001b[0;34m\u001b[0m\u001b[0m\n",
      "\u001b[0;31mNameError\u001b[0m: name 'asads' is not defined"
     ]
    }
   ],
   "source": [
    "bulk_data = [] \n",
    "cnt = 0\n",
    "for row in csv_file_object:\n",
    "    data_dict = {}\n",
    "    for i in range(len(row)):\n",
    "        data_dict[header[i]] = row[i]\n",
    "    op_dict = {\n",
    "        \"index\": {\n",
    "            \"_index\": INDEX_NAME, \n",
    "            \"_type\": TYPE_NAME, \n",
    "            \"_id\": data_dict[ID_FIELD]\n",
    "        }\n",
    "    }\n",
    "    print op_dict\n",
    "    print \"-----------------\"\n",
    "    print data_dict\n",
    "    print \"******************\"\n",
    "    cnt += 1\n",
    "    if cnt > 5:\n",
    "        asads\n",
    "    bulk_data.append(op_dict)\n",
    "    bulk_data.append(data_dict)"
   ]
  },
  {
   "cell_type": "code",
   "execution_count": 8,
   "metadata": {},
   "outputs": [
    {
     "name": "stdout",
     "output_type": "stream",
     "text": [
      "[{'index': {'_type': 'passenger', '_id': '892', '_index': 'titanic'}}, {'fare': '7.8292', 'name': 'Kelly, Mr. James', 'embarked': 'Q', 'age': '34.5', 'parch': '0', 'pclass': '3', 'sex': 'male', 'sibsp': '0', 'passengerid': '892', 'ticket': '330911', 'cabin': ''}]\n"
     ]
    }
   ],
   "source": [
    "print bulk_data[0:2]"
   ]
  },
  {
   "cell_type": "code",
   "execution_count": null,
   "metadata": {
    "collapsed": true
   },
   "outputs": [],
   "source": []
  }
 ],
 "metadata": {
  "kernelspec": {
   "display_name": "Python 2",
   "language": "python",
   "name": "python2"
  },
  "language_info": {
   "codemirror_mode": {
    "name": "ipython",
    "version": 2
   },
   "file_extension": ".py",
   "mimetype": "text/x-python",
   "name": "python",
   "nbconvert_exporter": "python",
   "pygments_lexer": "ipython2",
   "version": "2.7.6"
  }
 },
 "nbformat": 4,
 "nbformat_minor": 2
}
