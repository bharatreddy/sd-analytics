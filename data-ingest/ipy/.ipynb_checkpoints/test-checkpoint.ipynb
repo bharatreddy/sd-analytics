{
 "cells": [
  {
   "cell_type": "code",
   "execution_count": 1,
   "metadata": {
    "collapsed": true
   },
   "outputs": [],
   "source": [
    "import csv\n",
    "import urllib2\n",
    "import elasticsearch"
   ]
  },
  {
   "cell_type": "code",
   "execution_count": 3,
   "metadata": {},
   "outputs": [],
   "source": [
    "FILE_URL = \"http://apps.sloanahrens.com/qbox-blog-resources/kaggle-titanic-data/test.csv\"\n",
    "ES_HOST = {\"host\" : \"localhost\", \"port\" : 9200}\n",
    "INDEX_NAME = 'titanic'\n",
    "TYPE_NAME = 'passenger'\n",
    "ID_FIELD = 'passengerid'\n",
    "response = urllib2.urlopen(FILE_URL)\n",
    "csv_file_object = csv.reader(response)\n",
    " \n",
    "header = csv_file_object.next()\n",
    "header = [item.lower() for item in header]"
   ]
  },
  {
   "cell_type": "code",
   "execution_count": 11,
   "metadata": {
    "collapsed": true
   },
   "outputs": [],
   "source": [
    "bulk_data = [] \n",
    "cnt = 0\n",
    "for row in csv_file_object:\n",
    "    data_dict = {}\n",
    "    for i in range(len(row)):\n",
    "        data_dict[header[i]] = row[i]\n",
    "    op_dict = {\n",
    "        \"index\": {\n",
    "            \"_index\": INDEX_NAME, \n",
    "            \"_type\": TYPE_NAME, \n",
    "            \"_id\": data_dict[ID_FIELD]\n",
    "        }\n",
    "    }\n",
    "    print op_dict\n",
    "    print \"-----------------\"\n",
    "    print data_dict\n",
    "    print \"******************\"\n",
    "    cnt += 1\n",
    "    if cnt > 5:\n",
    "        asads\n",
    "    bulk_data.append(op_dict)\n",
    "    bulk_data.append(data_dict)"
   ]
  },
  {
   "cell_type": "code",
   "execution_count": 8,
   "metadata": {},
   "outputs": [
    {
     "name": "stdout",
     "output_type": "stream",
     "text": [
      "[{'index': {'_type': 'passenger', '_id': '892', '_index': 'titanic'}}, {'fare': '7.8292', 'name': 'Kelly, Mr. James', 'embarked': 'Q', 'age': '34.5', 'parch': '0', 'pclass': '3', 'sex': 'male', 'sibsp': '0', 'passengerid': '892', 'ticket': '330911', 'cabin': ''}]\n"
     ]
    }
   ],
   "source": [
    "print bulk_data[0:2]"
   ]
  },
  {
   "cell_type": "code",
   "execution_count": null,
   "metadata": {
    "collapsed": true
   },
   "outputs": [],
   "source": []
  }
 ],
 "metadata": {
  "kernelspec": {
   "display_name": "Python 2",
   "language": "python",
   "name": "python2"
  },
  "language_info": {
   "codemirror_mode": {
    "name": "ipython",
    "version": 2
   },
   "file_extension": ".py",
   "mimetype": "text/x-python",
   "name": "python",
   "nbconvert_exporter": "python",
   "pygments_lexer": "ipython2",
   "version": "2.7.6"
  }
 },
 "nbformat": 4,
 "nbformat_minor": 2
}
