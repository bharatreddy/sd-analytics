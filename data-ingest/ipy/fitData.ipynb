{
 "cells": [
  {
   "cell_type": "code",
   "execution_count": 1,
   "metadata": {},
   "outputs": [
    {
     "name": "stdout",
     "output_type": "stream",
     "text": [
      "Populating the interactive namespace from numpy and matplotlib\n"
     ]
    }
   ],
   "source": [
    "import datetime\n",
    "%pylab inline\n",
    "from davitpy import pydarn"
   ]
  },
  {
   "cell_type": "code",
   "execution_count": 2,
   "metadata": {
    "collapsed": true
   },
   "outputs": [],
   "source": [
    "file_format = ['{date}.{hour}......{radar}.{ftype}',\n",
    "                   '{date}.{hour}......{radar}...{ftype}']"
   ]
  },
  {
   "cell_type": "code",
   "execution_count": 3,
   "metadata": {},
   "outputs": [],
   "source": [
    "pydarn.plotting.printRec.fitPrintRec(datetime.datetime(2011,1,1,0,0),\n",
    "                                    datetime.datetime(2011,1,2,0,0),\n",
    "                                    'bks', 'test.txt' )\n",
    "\n",
    "# sTime = datetime.datetime(2011,1,1,1,0)\n",
    "# eTime = datetime.datetime(2011,1,1,2,0)\n",
    "# rad = \"bks\"\n",
    "\n"
   ]
  },
  {
   "cell_type": "code",
   "execution_count": 4,
   "metadata": {
    "collapsed": true
   },
   "outputs": [],
   "source": [
    "# myPtr = pydarn.sdio.radDataOpen(sTime, rad, eTime=eTime, fileType=\"fitex\",\n",
    "#                                     local_fnamefmt=file_format,\n",
    "#                                     remote_fnamefmt=file_format)"
   ]
  },
  {
   "cell_type": "code",
   "execution_count": 5,
   "metadata": {},
   "outputs": [],
   "source": [
    "# if(myPtr is None): print None\n",
    "# myData = pydarn.sdio.radDataReadRec(myPtr)\n",
    "# if(myData is None): print None\n",
    "# radar = pydarn.radar.network().getRadarByCode(rad)\n",
    "# site = radar.getSiteByDate(myData.time)\n",
    "# myFov = pydarn.radar.radFov.fov(site=site, rsep=myData.prm.rsep,\n",
    "#                                     ngates=myData.prm.nrang, altitude=300.)"
   ]
  },
  {
   "cell_type": "code",
   "execution_count": 6,
   "metadata": {},
   "outputs": [],
   "source": [
    "# print myData"
   ]
  },
  {
   "cell_type": "code",
   "execution_count": null,
   "metadata": {
    "collapsed": true
   },
   "outputs": [],
   "source": []
  }
 ],
 "metadata": {
  "kernelspec": {
   "display_name": "Python 2",
   "language": "python",
   "name": "python2"
  },
  "language_info": {
   "codemirror_mode": {
    "name": "ipython",
    "version": 2
   },
   "file_extension": ".py",
   "mimetype": "text/x-python",
   "name": "python",
   "nbconvert_exporter": "python",
   "pygments_lexer": "ipython2",
   "version": "2.7.6"
  }
 },
 "nbformat": 4,
 "nbformat_minor": 2
}
