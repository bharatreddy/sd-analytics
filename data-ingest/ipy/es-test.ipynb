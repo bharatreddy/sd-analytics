{
 "cells": [
  {
   "cell_type": "code",
   "execution_count": 1,
   "metadata": {},
   "outputs": [
    {
     "name": "stdout",
     "output_type": "stream",
     "text": [
      "Populating the interactive namespace from numpy and matplotlib\n"
     ]
    }
   ],
   "source": [
    "import elasticsearch\n",
    "import datetime\n",
    "import pandas\n",
    "import json\n",
    "%pylab inline"
   ]
  },
  {
   "cell_type": "code",
   "execution_count": 2,
   "metadata": {
    "collapsed": true
   },
   "outputs": [],
   "source": [
    "# setup some initial vars\n",
    "ES_HOST = {\"host\" : \"128.173.145.158\", \"port\" : 9200}\n",
    "INDEX_NAME = 'dst'\n",
    "TYPE_NAME = 'dst'\n",
    "inpDstFile = \"../dst_out_file.csv\"\n",
    "# request_body = {\n",
    "#     \"settings\" : {\n",
    "#         \"number_of_shards\": 1,\n",
    "#         \"number_of_replicas\": 0\n",
    "#     },\n",
    "#     \"mappings\" : {\n",
    "#         \"_default_\":{\n",
    "#             \"_timestamp\":{\n",
    "#                  \"enabled\":\"true\",\n",
    "#                  \"store\":\"true\",\n",
    "#                  \"path\":\"plugins.time_stamp.string\",\n",
    "#                  \"format\":\"yyyy-MM-dd HH:mm:ss\"\n",
    "#              }\n",
    "#          }\n",
    "#     }\n",
    "# }\n",
    "request_body = {\n",
    "    \"settings\" : {\n",
    "        \"number_of_shards\": 1,\n",
    "        \"number_of_replicas\": 0\n",
    "    },\n",
    "\n",
    "    'mappings': {\n",
    "        TYPE_NAME: {\n",
    "            'properties': {\n",
    "                'dst_index': {'type': 'float'},\n",
    "                'date': {'type': 'date'},\n",
    "           }}}\n",
    "}"
   ]
  },
  {
   "cell_type": "code",
   "execution_count": 6,
   "metadata": {},
   "outputs": [
    {
     "name": "stdout",
     "output_type": "stream",
     "text": [
      "2000-01-01 01:00:00 <type 'str'>\n",
      "2000-01-01 02:00:00 <type 'str'>\n",
      "2000-01-01 03:00:00 <type 'str'>\n",
      "2000-01-01 04:00:00 <type 'str'>\n",
      "2000-01-01 05:00:00 <type 'str'>\n",
      "2000-01-01 06:00:00 <type 'str'>\n",
      "2000-01-01 07:00:00 <type 'str'>\n"
     ]
    },
    {
     "ename": "NameError",
     "evalue": "name 'asda' is not defined",
     "output_type": "error",
     "traceback": [
      "\u001b[0;31m---------------------------------------------------------------------------\u001b[0m",
      "\u001b[0;31mNameError\u001b[0m                                 Traceback (most recent call last)",
      "\u001b[0;32m<ipython-input-6-768e6fa95f90>\u001b[0m in \u001b[0;36m<module>\u001b[0;34m()\u001b[0m\n\u001b[1;32m     18\u001b[0m     \u001b[0;32mprint\u001b[0m \u001b[0mrow\u001b[0m\u001b[0;34m[\u001b[0m\u001b[0;34m\"dst_date\"\u001b[0m\u001b[0;34m]\u001b[0m\u001b[0;34m,\u001b[0m \u001b[0mtype\u001b[0m\u001b[0;34m(\u001b[0m\u001b[0mrow\u001b[0m\u001b[0;34m[\u001b[0m\u001b[0;34m\"dst_date\"\u001b[0m\u001b[0;34m]\u001b[0m\u001b[0;34m)\u001b[0m\u001b[0;34m\u001b[0m\u001b[0m\n\u001b[1;32m     19\u001b[0m     \u001b[0;32mif\u001b[0m \u001b[0mindex\u001b[0m \u001b[0;34m>\u001b[0m \u001b[0;36m5\u001b[0m\u001b[0;34m:\u001b[0m\u001b[0;34m\u001b[0m\u001b[0m\n\u001b[0;32m---> 20\u001b[0;31m         \u001b[0masda\u001b[0m\u001b[0;34m\u001b[0m\u001b[0m\n\u001b[0m\u001b[1;32m     21\u001b[0m     \u001b[0mdstRecs\u001b[0m\u001b[0;34m.\u001b[0m\u001b[0mappend\u001b[0m\u001b[0;34m(\u001b[0m\u001b[0mop_dict\u001b[0m\u001b[0;34m)\u001b[0m\u001b[0;34m\u001b[0m\u001b[0m\n\u001b[1;32m     22\u001b[0m     \u001b[0mdstRecs\u001b[0m\u001b[0;34m.\u001b[0m\u001b[0mappend\u001b[0m\u001b[0;34m(\u001b[0m\u001b[0mdstDict\u001b[0m\u001b[0;34m)\u001b[0m\u001b[0;34m\u001b[0m\u001b[0m\n",
      "\u001b[0;31mNameError\u001b[0m: name 'asda' is not defined"
     ]
    }
   ],
   "source": [
    "# We'll put input the data as an array of jsons\n",
    "dstRecs = [] \n",
    "# read data into a pandas DF\n",
    "dstDF = pandas.read_csv(inpDstFile, sep=' ')\n",
    "# Iterate over rows and create dict\n",
    "# to upload to elasticsearch\n",
    "for index, row in dstDF.iterrows():\n",
    "    dstDict = {}\n",
    "    dstDict[\"dst_index\"] = row[\"dst_index\"]\n",
    "    dstDict[\"date\"] = row[\"dst_date\"]\n",
    "    op_dict = {\n",
    "        \"index\": {\n",
    "            \"_index\": INDEX_NAME, \n",
    "            \"_type\": TYPE_NAME, \n",
    "            \"_id\": index\n",
    "        }\n",
    "    }\n",
    "    print row[\"dst_date\"], type(row[\"dst_date\"])\n",
    "    if index > 5:\n",
    "        asda\n",
    "    dstRecs.append(op_dict)\n",
    "    dstRecs.append(dstDict)\n",
    "\n",
    "\n",
    "# dstRecsStr = dstDF.to_json(orient=\"records\")\n",
    "# dstRecs = json.loads(dstRecsStr)"
   ]
  },
  {
   "cell_type": "code",
   "execution_count": 4,
   "metadata": {},
   "outputs": [
    {
     "name": "stdout",
     "output_type": "stream",
     "text": [
      "DELETING EXISTING INDEX---> dst\n",
      "{u'acknowledged': True}\n",
      "{u'acknowledged': True, u'shards_acknowledged': True}\n"
     ]
    }
   ],
   "source": [
    "es = elasticsearch.Elasticsearch(hosts = [ES_HOST], \\\n",
    "            timeout=30, max_retries=10, retry_on_timeout=True)\n",
    "if es.indices.exists(INDEX_NAME):\n",
    "    print \"DELETING EXISTING INDEX--->\", INDEX_NAME\n",
    "    res = es.indices.delete(index=INDEX_NAME)\n",
    "    print res\n",
    "res = es.indices.create( index = INDEX_NAME, body = request_body )\n",
    "print res"
   ]
  },
  {
   "cell_type": "code",
   "execution_count": 5,
   "metadata": {},
   "outputs": [
    {
     "name": "stderr",
     "output_type": "stream",
     "text": [
      "IOPub data rate exceeded.\n",
      "The notebook server will temporarily stop sending output\n",
      "to the client in order to avoid crashing it.\n",
      "To change this limit, set the config variable\n",
      "`--NotebookApp.iopub_data_rate_limit`.\n"
     ]
    }
   ],
   "source": [
    "res = es.bulk(index = INDEX_NAME, body = dstRecs, refresh = True)\n",
    "print res"
   ]
  },
  {
   "cell_type": "code",
   "execution_count": null,
   "metadata": {
    "collapsed": true
   },
   "outputs": [],
   "source": []
  }
 ],
 "metadata": {
  "kernelspec": {
   "display_name": "Python 2",
   "language": "python",
   "name": "python2"
  },
  "language_info": {
   "codemirror_mode": {
    "name": "ipython",
    "version": 2
   },
   "file_extension": ".py",
   "mimetype": "text/x-python",
   "name": "python",
   "nbconvert_exporter": "python",
   "pygments_lexer": "ipython2",
   "version": "2.7.6"
  }
 },
 "nbformat": 4,
 "nbformat_minor": 1
}
